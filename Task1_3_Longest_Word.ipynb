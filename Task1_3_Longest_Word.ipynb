{
 "cells": [
  {
   "cell_type": "code",
   "execution_count": 5,
   "metadata": {},
   "outputs": [
    {
     "name": "stdout",
     "output_type": "stream",
     "text": [
      "Enter the number of elements in list:5\n",
      "Enter element:Me\n",
      "Enter element:and \n",
      "Enter element:you\n",
      "Enter element:We are\n",
      "Enter element:BestFriends\n",
      "The word with the longest length is:\n",
      "BestFriends\n"
     ]
    }
   ],
   "source": [
    "l=[]\n",
    "n= int(input(\"Enter the number of elements in list:\"))\n",
    "for i in range(0,n):\n",
    "    word=input(\"Enter element:\")\n",
    "    l.append(word)\n",
    "max1=len(l[0])\n",
    "t=a[0]\n",
    "for j in l:\n",
    "    if(len(j)>max1):\n",
    "       max1=len(j)\n",
    "       t=j\n",
    "print(\"The word with the longest length is:\")\n",
    "print(t)"
   ]
  },
  {
   "cell_type": "code",
   "execution_count": null,
   "metadata": {},
   "outputs": [],
   "source": []
  },
  {
   "cell_type": "code",
   "execution_count": null,
   "metadata": {},
   "outputs": [],
   "source": []
  }
 ],
 "metadata": {
  "kernelspec": {
   "display_name": "Python 3",
   "language": "python",
   "name": "python3"
  },
  "language_info": {
   "codemirror_mode": {
    "name": "ipython",
    "version": 3
   },
   "file_extension": ".py",
   "mimetype": "text/x-python",
   "name": "python",
   "nbconvert_exporter": "python",
   "pygments_lexer": "ipython3",
   "version": "3.7.4"
  }
 },
 "nbformat": 4,
 "nbformat_minor": 2
}
