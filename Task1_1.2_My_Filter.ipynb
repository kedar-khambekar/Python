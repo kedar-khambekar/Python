{
 "cells": [
  {
   "cell_type": "code",
   "execution_count": 31,
   "metadata": {},
   "outputs": [
    {
     "name": "stdout",
     "output_type": "stream",
     "text": [
      "enter elements:5\n",
      "\n",
      "number:7\n",
      "\n",
      "number:10\n",
      "\n",
      "number:39\n",
      "\n",
      "number:55\n",
      "\n",
      "number:73\n",
      "\n",
      "list: [7, 10, 39, 55, 73]\n",
      "\n",
      "multiple of 5: [10, 55]\n"
     ]
    }
   ],
   "source": [
    "l=[]\n",
    "\n",
    "n=int(input(\"enter elements:\"))\n",
    "\n",
    "for i in range(0,n):\n",
    "    \n",
    "    num=int(input(\"\\nnumber:\"))\n",
    "    l.append(num)\n",
    "print(\"\\nlist:\",l)\n",
    "\n",
    "def my_filter(l):\n",
    "            print(\"\\nmultiple of 5:\",list(filter(lambda a:a%5==0,l)))\n",
    "\n",
    "my_filter(l)"
   ]
  },
  {
   "cell_type": "code",
   "execution_count": null,
   "metadata": {},
   "outputs": [],
   "source": []
  },
  {
   "cell_type": "code",
   "execution_count": null,
   "metadata": {},
   "outputs": [],
   "source": []
  }
 ],
 "metadata": {
  "kernelspec": {
   "display_name": "Python 3",
   "language": "python",
   "name": "python3"
  },
  "language_info": {
   "codemirror_mode": {
    "name": "ipython",
    "version": 3
   },
   "file_extension": ".py",
   "mimetype": "text/x-python",
   "name": "python",
   "nbconvert_exporter": "python",
   "pygments_lexer": "ipython3",
   "version": "3.7.4"
  }
 },
 "nbformat": 4,
 "nbformat_minor": 2
}
