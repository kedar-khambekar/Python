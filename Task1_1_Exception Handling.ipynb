{
 "cells": [
  {
   "cell_type": "code",
   "execution_count": 9,
   "metadata": {},
   "outputs": [
    {
     "name": "stdout",
     "output_type": "stream",
     "text": [
      "Enter Numerator:5\n",
      "Enter Denominator:0\n",
      "We can not divide a number by keeping denominator as ZERO\n"
     ]
    }
   ],
   "source": [
    "a=int(input(\"Enter Numerator:\"))\n",
    "\n",
    "b=int(input(\"Enter Denominator:\"))\n",
    "\n",
    "try:\n",
    "    print(a/b);\n",
    "    \n",
    "except ZeroDivisionError:\n",
    "    \n",
    "    print(\"We can not divide a number by keeping denominator as ZERO\")\n",
    "    "
   ]
  },
  {
   "cell_type": "code",
   "execution_count": null,
   "metadata": {},
   "outputs": [],
   "source": []
  },
  {
   "cell_type": "code",
   "execution_count": null,
   "metadata": {},
   "outputs": [],
   "source": []
  },
  {
   "cell_type": "code",
   "execution_count": null,
   "metadata": {},
   "outputs": [],
   "source": []
  }
 ],
 "metadata": {
  "kernelspec": {
   "display_name": "Python 3",
   "language": "python",
   "name": "python3"
  },
  "language_info": {
   "codemirror_mode": {
    "name": "ipython",
    "version": 3
   },
   "file_extension": ".py",
   "mimetype": "text/x-python",
   "name": "python",
   "nbconvert_exporter": "python",
   "pygments_lexer": "ipython3",
   "version": "3.7.4"
  }
 },
 "nbformat": 4,
 "nbformat_minor": 2
}
