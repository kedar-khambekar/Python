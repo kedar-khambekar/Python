{
 "cells": [
  {
   "cell_type": "code",
   "execution_count": 1,
   "metadata": {},
   "outputs": [
    {
     "name": "stdout",
     "output_type": "stream",
     "text": [
      "Enter Elements:5\n",
      "Number:7\n",
      "Number:9\n",
      "Number:10\n",
      "Number:27\n",
      "Number:55\n",
      "List: [7, 9, 10, 27, 55]\n",
      "sum: 108\n"
     ]
    }
   ],
   "source": [
    "import functools as ft\n",
    "l=[]\n",
    "\n",
    "num=int(input(\"Enter Elements:\"))\n",
    "\n",
    "for i in range(0,num):\n",
    "    \n",
    "    n=int(input(\"Number:\"))\n",
    "    \n",
    "    l.append(n)\n",
    "print(\"List:\",l)\n",
    "\n",
    "def my_reduce(l):\n",
    "    \n",
    "    l1=ft.reduce(lambda a,b:a+b,l)\n",
    "    \n",
    "print(\"sum:\",sum(l))\n",
    "\n",
    "my_reduce(l)"
   ]
  },
  {
   "cell_type": "code",
   "execution_count": null,
   "metadata": {},
   "outputs": [],
   "source": []
  }
 ],
 "metadata": {
  "kernelspec": {
   "display_name": "Python 3",
   "language": "python",
   "name": "python3"
  },
  "language_info": {
   "codemirror_mode": {
    "name": "ipython",
    "version": 3
   },
   "file_extension": ".py",
   "mimetype": "text/x-python",
   "name": "python",
   "nbconvert_exporter": "python",
   "pygments_lexer": "ipython3",
   "version": "3.7.4"
  }
 },
 "nbformat": 4,
 "nbformat_minor": 2
}
