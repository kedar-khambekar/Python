{
 "cells": [
  {
   "cell_type": "code",
   "execution_count": null,
   "id": "f0ae1cab",
   "metadata": {},
   "outputs": [],
   "source": [
    "import psutil\n",
    "\n",
    "def processdisplay():\n",
    "    \n",
    "    processlist=[]\n",
    "    \n",
    "    try:\n",
    "    \n",
    "        for proc in psutil.process_iter():\n",
    "            pinfo=proc.as_dict(['name','username','pid'])\n",
    "            pinfo['vms']=proc.memory_info().vms/1024*1024 #display size in MB\n",
    "            \n",
    "            processlist.append(pinfo)\n",
    "    except(psutil.ZombieProcess,psutil.NoSuchProcess,psutil.AccessDenied):\n",
    "        pass\n",
    "    \n",
    "    return processlist\n",
    "        \n",
    "            \n",
    "\n",
    "def main():\n",
    "    \n",
    "    processlist=processdisplay()\n",
    "    \n",
    "    for ele in processlist:\n",
    "        print(ele)\n",
    "    \n",
    "if __name__==\"__main__\":\n",
    "    main()"
   ]
  }
 ],
 "metadata": {
  "kernelspec": {
   "display_name": "Python 3",
   "language": "python",
   "name": "python3"
  },
  "language_info": {
   "codemirror_mode": {
    "name": "ipython",
    "version": 3
   },
   "file_extension": ".py",
   "mimetype": "text/x-python",
   "name": "python",
   "nbconvert_exporter": "python",
   "pygments_lexer": "ipython3",
   "version": "3.8.8"
  }
 },
 "nbformat": 4,
 "nbformat_minor": 5
}
