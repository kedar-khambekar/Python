{
 "cells": [
  {
   "cell_type": "code",
   "execution_count": 7,
   "metadata": {},
   "outputs": [
    {
     "name": "stdout",
     "output_type": "stream",
     "text": [
      "Enter the total strings:3\n",
      "Word:Dream\n",
      "Word:Determination\n",
      "Word:Data Scientist\n",
      "list: ['Dream', 'Determination', 'Data Scientist']\n",
      "5 13 14 "
     ]
    }
   ],
   "source": [
    "l=[]\n",
    "num=int(input(\"Enter the total strings:\"))\n",
    "\n",
    "for i in range(0,num):\n",
    "\n",
    "    word=input(\"Word:\")\n",
    "\n",
    "    l.append(word)\n",
    "print(\"list:\",l)\n",
    "\n",
    "def len_string(l):\n",
    "\n",
    "    for i in l:\n",
    "\n",
    "        print(len(i),end=' ')\n",
    "\n",
    "len_string(l)\n"
   ]
  },
  {
   "cell_type": "code",
   "execution_count": null,
   "metadata": {},
   "outputs": [],
   "source": []
  },
  {
   "cell_type": "code",
   "execution_count": null,
   "metadata": {},
   "outputs": [],
   "source": []
  }
 ],
 "metadata": {
  "kernelspec": {
   "display_name": "Python 3",
   "language": "python",
   "name": "python3"
  },
  "language_info": {
   "codemirror_mode": {
    "name": "ipython",
    "version": 3
   },
   "file_extension": ".py",
   "mimetype": "text/x-python",
   "name": "python",
   "nbconvert_exporter": "python",
   "pygments_lexer": "ipython3",
   "version": "3.7.4"
  }
 },
 "nbformat": 4,
 "nbformat_minor": 2
}
