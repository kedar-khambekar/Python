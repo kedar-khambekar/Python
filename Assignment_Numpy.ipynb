{
 "cells": [
  {
   "cell_type": "markdown",
   "metadata": {},
   "source": [
    "# Assignment_Numpy\n",
    "\n",
    "## 1.Introduction\n",
    "\n",
    "This assignment will help you to consolidate the concepts learnt in the session.\n",
    "\n",
    "## 2.Problem Statement\n",
    "\n",
    "(1) Write a function so that the columns of the output matrix are powers of the input\n",
    "vector.\n",
    "The order of the powers is determined by the increasing boolean argument. Specifically, when\n",
    "increasing is False, the i-th output column is the input vector raised element-wise to the power\n",
    "of N - i - 1.\n",
    "HINT: Such a matrix with a geometric progression in each row is named for Alexandre-\n",
    "Theophile Vandermonde.\n",
    "\n",
    "==============================================================================================\n",
    "\n",
    "(2) Given a sequence of n values x1, x2, ..., xn and a window size k>0, the k-th moving average of\n",
    "the given sequence is defined as follows:\n",
    "The moving average sequence has n-k+1 elements as shown below.\n",
    "The moving averages with k=4 of a ten-value sequence (n=10) is shown below\n",
    "i 1 2 3 4 5 6 7 8 9 10\n",
    "===== == == == == == == == == == ==\n",
    "Input 10 20 30 40 50 60 70 80 90 100\n",
    "y1 25 = (10+20+30+40)/4\n",
    "y2 35 = (20+30+40+50)/4\n",
    "y3 45 = (30+40+50+60)/4\n",
    "y4 55 = (40+50+60+70)/4\n",
    "y5 65 = (50+60+70+80)/4\n",
    "y6 75 = (60+70+80+90)/4\n",
    "y7 85 = (70+80+90+100)/4\n",
    "Thus, the moving average sequence has n-k+1=10-4+1=7 values.\n",
    "Question: Write a function to find moving average in an array over a window:\n",
    "Test it over [3, 5, 7, 2, 8, 10, 11, 65, 72, 81, 99, 100, 150] and window of 3.\n",
    "\n",
    "\n",
    "\n",
    "\n"
   ]
  },
  {
   "cell_type": "code",
   "execution_count": null,
   "metadata": {},
   "outputs": [],
   "source": [
    "\"\"\"\n",
    "Question_1:\n",
    "\n",
    "Write a function so that the columns of the output matrix are powers of the input vector.\n",
    "The order of the powers is determined by the increasing boolean argument. \n",
    "Specifically, when increasing is False, the i-th output column is the input vector \n",
    "raised element-wise to the power of N - i - 1. \n",
    "HINT: Such a matrix with a geometric progression in each row is named \n",
    "for Alexandre- Theophile Vandermonde.\n",
    "\n",
    "\"\"\""
   ]
  },
  {
   "cell_type": "code",
   "execution_count": 10,
   "metadata": {},
   "outputs": [],
   "source": [
    "import numpy as np"
   ]
  },
  {
   "cell_type": "code",
   "execution_count": 15,
   "metadata": {},
   "outputs": [
    {
     "name": "stdout",
     "output_type": "stream",
     "text": [
      "Number of items in an Array:7\n",
      "Number:1\n",
      "Number:4\n",
      "Number:8\n",
      "Number:2\n",
      "Number:63\n",
      "Number:7\n",
      "Number:4\n",
      "List: [1, 4, 8, 2, 63, 7, 4]\n",
      "Array is: [ 1  4  8  2 63  7  4]\n",
      "alexandre theophile vandermonde matrix is:\n",
      " [[     1      1      1      1]\n",
      " [    64     16      4      1]\n",
      " [   512     64      8      1]\n",
      " [     8      4      2      1]\n",
      " [250047   3969     63      1]\n",
      " [   343     49      7      1]\n",
      " [    64     16      4      1]]\n"
     ]
    }
   ],
   "source": [
    "l=[]\n",
    "\n",
    "n=int(input(\"Number of items in an Array:\"))\n",
    "\n",
    "for i in range(0,n):\n",
    "    \n",
    "    num=int(input(\"Number:\"))\n",
    "    \n",
    "    l.append(num)\n",
    "    \n",
    "print(\"List:\",l)\n",
    "\n",
    "arr=np.array(l)\n",
    "\n",
    "print(\"Array is:\",arr)\n",
    "def matrix():\n",
    "    \n",
    "    mat= np.vander(arr,N=4) # default value of N is equal to length of an Array. Here N=3.\n",
    "    print(\"alexandre theophile vandermonde matrix is:\\n\",mat)\n",
    "    \n",
    "matrix()\n"
   ]
  },
  {
   "cell_type": "code",
   "execution_count": null,
   "metadata": {},
   "outputs": [],
   "source": [
    "\"\"\"\n",
    "Question_2:\n",
    "\n",
    "Given a sequence of n values x1, x2, ..., xn and a window size k>0, \n",
    "the k-th moving average of the given sequence is defined as follows: \n",
    "The moving average sequence has n-k+1 elements as shown below. \n",
    "The moving averages with k=4 of a ten-value sequence (n=10) is shown below\n",
    "i 1 2 3 4 5 6 7 8 9 10 \n",
    "===== == == == == == == == == == == \n",
    "Input 10 20 30 40 50 60 70 80 90 100 \n",
    "y1 25 = (10+20+30+40)/4 \n",
    "y2 35 = (20+30+40+50)/4 \n",
    "y3 45 = (30+40+50+60)/4 \n",
    "y4 55 = (40+50+60+70)/4 \n",
    "y5 65 = (50+60+70+80)/4 \n",
    "y6 75 = (60+70+80+90)/4 \n",
    "y7 85 = (70+80+90+100)/4 \n",
    "Thus, the moving average sequence has n-k+1=10-4+1=7 values. \n",
    "Question: Write a function to find moving average in an array over a window:\n",
    "Test it over [3, 5, 7, 2, 8, 10, 11, 65, 72, 81, 99, 100, 150] and window of 3.\n",
    "\"\"\""
   ]
  },
  {
   "cell_type": "code",
   "execution_count": 16,
   "metadata": {},
   "outputs": [
    {
     "name": "stdout",
     "output_type": "stream",
     "text": [
      "[5.0, 4.666666666666667, 5.666666666666667, 6.666666666666667, 9.666666666666666, 28.666666666666668, 49.333333333333336, 72.66666666666667, 84.0, 93.33333333333333, 116.33333333333333]\n"
     ]
    }
   ],
   "source": [
    "def moving_avg():\n",
    "    \n",
    "    l=[3, 5, 7, 2, 8, 10, 11, 65, 72, 81, 99, 100, 150]\n",
    "    arr=np.array(l)\n",
    "    k=3\n",
    "    n=13\n",
    "    MA=n-k+1\n",
    "    i=0\n",
    "    l1=[]\n",
    "\n",
    "    while i < MA:\n",
    "        tw=arr[i:i+k]\n",
    "        wa=sum(tw)/k\n",
    "        l1.append(wa)\n",
    "        i=i+1\n",
    "    print(l1)\n",
    "moving_avg()"
   ]
  },
  {
   "cell_type": "code",
   "execution_count": null,
   "metadata": {},
   "outputs": [],
   "source": []
  }
 ],
 "metadata": {
  "kernelspec": {
   "display_name": "Python 3",
   "language": "python",
   "name": "python3"
  },
  "language_info": {
   "codemirror_mode": {
    "name": "ipython",
    "version": 3
   },
   "file_extension": ".py",
   "mimetype": "text/x-python",
   "name": "python",
   "nbconvert_exporter": "python",
   "pygments_lexer": "ipython3",
   "version": "3.7.4"
  }
 },
 "nbformat": 4,
 "nbformat_minor": 2
}
