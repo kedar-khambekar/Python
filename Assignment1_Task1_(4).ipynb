{
 "cells": [
  {
   "cell_type": "code",
   "execution_count": 6,
   "metadata": {},
   "outputs": [
    {
     "name": "stdout",
     "output_type": "stream",
     "text": [
      "904.3199999999999\n"
     ]
    }
   ],
   "source": [
    "'''\n",
    "Given: \n",
    "diameter=12\n",
    "Volume of Sphere=(4/3)*3.14*(r**3)\n",
    "\n",
    "as Diameter is 12\n",
    "Radius = 0.5*diameter =0.5*12=6\n",
    "\n",
    "'''\n",
    "\n",
    "diameter=12\n",
    "radius=0.5*diameter\n",
    "\n",
    "volume_of_sphere=(4/3)*3.14*(radius**3)\n",
    "print(volume_of_sphere)\n"
   ]
  },
  {
   "cell_type": "code",
   "execution_count": null,
   "metadata": {},
   "outputs": [],
   "source": []
  }
 ],
 "metadata": {
  "kernelspec": {
   "display_name": "Python 3",
   "language": "python",
   "name": "python3"
  },
  "language_info": {
   "codemirror_mode": {
    "name": "ipython",
    "version": 3
   },
   "file_extension": ".py",
   "mimetype": "text/x-python",
   "name": "python",
   "nbconvert_exporter": "python",
   "pygments_lexer": "ipython3",
   "version": "3.7.4"
  }
 },
 "nbformat": 4,
 "nbformat_minor": 2
}
