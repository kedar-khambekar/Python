{
 "cells": [
  {
   "cell_type": "code",
   "execution_count": 11,
   "metadata": {},
   "outputs": [
    {
     "name": "stdout",
     "output_type": "stream",
     "text": [
      "Number of items in an Array:5\n",
      "Number:2\n",
      "Number:3\n",
      "Number:5\n",
      "Number:4\n",
      "Number:9\n",
      "List: [2, 3, 5, 4, 9]\n",
      "Array is: [2 3 5 4 9]\n",
      "alexandre theophile vandermonde matrix is:\n",
      " [[ 4  2  1]\n",
      " [ 9  3  1]\n",
      " [25  5  1]\n",
      " [16  4  1]\n",
      " [81  9  1]]\n"
     ]
    }
   ],
   "source": [
    "import numpy as np\n",
    "l=[]\n",
    "\n",
    "n=int(input(\"Number of items in an Array:\"))\n",
    "\n",
    "for i in range(0,n):\n",
    "    \n",
    "    num=int(input(\"Number:\"))\n",
    "    \n",
    "    l.append(num)\n",
    "    \n",
    "print(\"List:\",l)\n",
    "\n",
    "arr=np.array(l)\n",
    "\n",
    "print(\"Array is:\",arr)\n",
    "def matrix():\n",
    "    \n",
    "    mat= np.vander(arr,N=3) # default value of N is equal to length of an Array. Here N=3.\n",
    "    print(\"alexandre theophile vandermonde matrix is:\\n\",mat)\n",
    "    \n",
    "matrix()\n"
   ]
  },
  {
   "cell_type": "code",
   "execution_count": null,
   "metadata": {},
   "outputs": [],
   "source": [
    "\n",
    "7"
   ]
  }
 ],
 "metadata": {
  "kernelspec": {
   "display_name": "Python 3",
   "language": "python",
   "name": "python3"
  },
  "language_info": {
   "codemirror_mode": {
    "name": "ipython",
    "version": 3
   },
   "file_extension": ".py",
   "mimetype": "text/x-python",
   "name": "python",
   "nbconvert_exporter": "python",
   "pygments_lexer": "ipython3",
   "version": "3.7.4"
  }
 },
 "nbformat": 4,
 "nbformat_minor": 2
}
