{
 "cells": [
  {
   "cell_type": "code",
   "execution_count": 13,
   "metadata": {},
   "outputs": [
    {
     "name": "stdout",
     "output_type": "stream",
     "text": [
      "Enter integer which will get compare with the length of words:4\n",
      "Total number of words to be display:5\n",
      "Word:Vaidehi\n",
      "Word:Kedar\n",
      "Word:Ovee\n",
      "Word:MS\n",
      "Word:John\n",
      "list of Words: ['Vaidehi', 'Kedar', 'Ovee', 'MS', 'John']\n",
      "list of words which has greater length than integer: ['Vaidehi', 'Kedar']\n"
     ]
    }
   ],
   "source": [
    "l=[]\n",
    "l1=[]\n",
    "n=int(input(\"Enter integer which will get compare with the length of words:\"))\n",
    "\n",
    "n1=int(input(\"Total number of words to be display:\"))\n",
    "\n",
    "def filter_long_word(l,l1,n,n1):\n",
    "    \n",
    "    for i in range(0,n1):\n",
    "    \n",
    "        word=input(\"Word:\")\n",
    "    \n",
    "        l.append(word)\n",
    "    print(\"list of Words:\",l)\n",
    "\n",
    "    for i in l:\n",
    "        \n",
    "        if len(i)>n:\n",
    "            l1.append(i)\n",
    "    print(\"list of words which has greater length than integer:\",l1)\n",
    "\n",
    "filter_long_word(l,l1,n,n1)"
   ]
  },
  {
   "cell_type": "code",
   "execution_count": null,
   "metadata": {},
   "outputs": [],
   "source": []
  },
  {
   "cell_type": "code",
   "execution_count": null,
   "metadata": {},
   "outputs": [],
   "source": []
  }
 ],
 "metadata": {
  "kernelspec": {
   "display_name": "Python 3",
   "language": "python",
   "name": "python3"
  },
  "language_info": {
   "codemirror_mode": {
    "name": "ipython",
    "version": 3
   },
   "file_extension": ".py",
   "mimetype": "text/x-python",
   "name": "python",
   "nbconvert_exporter": "python",
   "pygments_lexer": "ipython3",
   "version": "3.7.4"
  }
 },
 "nbformat": 4,
 "nbformat_minor": 2
}
