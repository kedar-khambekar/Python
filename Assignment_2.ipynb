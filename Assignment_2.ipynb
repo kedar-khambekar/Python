{
 "cells": [
  {
   "cell_type": "markdown",
   "metadata": {},
   "source": [
    "# Introduction\n",
    "This assignment will help you to consolidate the concepts learnt in the session.\n",
    "\n",
    "## 2. Problem Statement\n",
    "\n",
    "### Task 1:\n",
    "1.1\n",
    "Write a Python Program to implement your own myreduce() function which works exactly like\n",
    "Python's built-in function reduce()\n",
    "\n",
    "1.2\n",
    "Write a Python program to implement your own myfilter() function which works exactly like\n",
    "Python's built-in function filter()\n",
    "\n",
    "2.\n",
    "Implement List comprehensions to produce the following lists.\n",
    "Write List comprehensions to produce the following Lists\n",
    "\n",
    "['A', 'C', 'A', 'D', 'G', 'I', ’L’, ‘ D’]\n",
    "\n",
    "['x', 'xx', 'xxx', 'xxxx', 'y', 'yy', 'yyy', 'yyyy', 'z', 'zz', 'zzz', 'zzzz']\n",
    "\n",
    "['x', 'y', 'z', 'xx', 'yy', 'zz', 'xx', 'yy', 'zz', 'xxxx', 'yyyy', 'zzzz']\n",
    "\n",
    "[[2], [3], [4], [3], [4], [5], [4], [5], [6]]\n",
    "\n",
    "[[2, 3, 4, 5], [3, 4, 5, 6], [4, 5, 6, 7], [5, 6, 7, 8]]\n",
    "\n",
    "[(1, 1), (2, 1), (3, 1), (1, 2), (2, 2), (3, 2), (1, 3), (2, 3), (3, 3)]\n",
    "\n",
    "3.\n",
    "Implement a function longestWord() that takes a list of words and returns the longest one.\n",
    "\n",
    "### Task 2:\n",
    "\n",
    "1.1\n",
    "Write a Python Program(with class concepts) to find the area of the triangle using the below\n",
    "formula.\n",
    "area = (s*(s-a)*(s-b)*(s-c)) ** 0.5\n",
    "Function to take the length of the sides of triangle from user should be defined in the parent\n",
    "class and function to calculate the area should be defined in subclass.\n",
    "\n",
    "1.2\n",
    "Write a function filter_long_words() that takes a list of words and an integer n and returns the list\n",
    "of words that are longer than n.\n",
    "\n",
    "2.1\n",
    "Write a Python program using function concept that maps list of words into a list of integers\n",
    "representing the lengths of the corresponding words .\n",
    "Hint: If a list [ ab,cde,erty] is passed on to the python function output should come as [2,3,4]\n",
    "Here 2,3 and 4 are the lengths of the words in the list.\n",
    "\n",
    "2.2\n",
    "Write a Python function which takes a character (i.e. a string of length 1) and returns True if it is\n",
    "a vowel, False otherwise.\n",
    "NOTE: The solution shared through Github should contain the source code used and\n",
    "the screenshot of the output.\n",
    "\n",
    "3. Output\n",
    "N/A"
   ]
  },
  {
   "cell_type": "markdown",
   "metadata": {},
   "source": [
    "# Task1"
   ]
  },
  {
   "cell_type": "code",
   "execution_count": 1,
   "metadata": {},
   "outputs": [
    {
     "name": "stdout",
     "output_type": "stream",
     "text": [
      "Enter Elements:5\n",
      "Number:7\n",
      "Number:4\n",
      "Number:8\n",
      "Number:10\n",
      "Number:27\n",
      "List: [7, 4, 8, 10, 27]\n",
      "sum: 56\n"
     ]
    }
   ],
   "source": [
    "'''\n",
    "1.1 Write a Python Program to implement your own myreduce() function \n",
    "which works exactly like Python's built-in function reduce()\n",
    "'''\n",
    "import functools as ft\n",
    "l=[]\n",
    "\n",
    "num=int(input(\"Enter Elements:\"))\n",
    "\n",
    "for i in range(0,num):\n",
    "    \n",
    "    n=int(input(\"Number:\"))\n",
    "    \n",
    "    l.append(n)\n",
    "print(\"List:\",l)\n",
    "\n",
    "def my_reduce(l):\n",
    "    \n",
    "    l1=ft.reduce(lambda a,b:a+b,l)\n",
    "    \n",
    "print(\"sum:\",sum(l))\n",
    "\n",
    "my_reduce(l)\n"
   ]
  },
  {
   "cell_type": "code",
   "execution_count": 3,
   "metadata": {},
   "outputs": [
    {
     "name": "stdout",
     "output_type": "stream",
     "text": [
      "enter elements:4\n",
      "\n",
      "number:10\n",
      "\n",
      "number:7\n",
      "\n",
      "number:22\n",
      "\n",
      "number:100\n",
      "\n",
      "list: [10, 7, 22, 100]\n",
      "\n",
      "multiple of 5: [10, 100]\n"
     ]
    }
   ],
   "source": [
    "'''\n",
    "1.2 Write a Python program to implement your own myfilter() function \n",
    "which works exactly like Python's built-in function filter()\n",
    "'''\n",
    "\n",
    "l=[]\n",
    "\n",
    "n=int(input(\"enter elements:\"))\n",
    "\n",
    "for i in range(0,n):\n",
    "    \n",
    "    num=int(input(\"\\nnumber:\"))\n",
    "    l.append(num)\n",
    "print(\"\\nlist:\",l)\n",
    "\n",
    "def my_filter(l):\n",
    "            print(\"\\nmultiple of 5:\",list(filter(lambda a:a%5==0,l)))\n",
    "\n",
    "my_filter(l)"
   ]
  },
  {
   "cell_type": "code",
   "execution_count": 4,
   "metadata": {},
   "outputs": [
    {
     "name": "stdout",
     "output_type": "stream",
     "text": [
      "['A', 'C', 'A', 'D', 'G', 'I', 'L', 'D']\n"
     ]
    }
   ],
   "source": [
    "'''\n",
    "2. Implement List comprehensions to produce the following lists. \n",
    "Write List comprehensions to produce the following Lists\n",
    "\n",
    "['A', 'C', 'A', 'D', 'G', 'I', ’L’, ‘ D’]\n",
    "\n",
    "['x', 'xx', 'xxx', 'xxxx', 'y', 'yy', 'yyy', 'yyyy', 'z', 'zz', 'zzz', 'zzzz']\n",
    "\n",
    "['x', 'y', 'z', 'xx', 'yy', 'zz', 'xx', 'yy', 'zz', 'xxxx', 'yyyy', 'zzzz']\n",
    "\n",
    "[[2], [3], [4], [3], [4], [5], [4], [5], [6]]\n",
    "\n",
    "[[2, 3, 4, 5], [3, 4, 5, 6], [4, 5, 6, 7], [5, 6, 7, 8]]\n",
    "\n",
    "[(1, 1), (2, 1), (3, 1), (1, 2), (2, 2), (3, 2), (1, 3), (2, 3), (3, 3)]\n",
    "\n",
    "'''\n",
    "\n",
    "l=[]\n",
    "for i in 'ACADGILD':\n",
    "    l.append(i)\n",
    "print(l)\n",
    "    "
   ]
  },
  {
   "cell_type": "code",
   "execution_count": 5,
   "metadata": {},
   "outputs": [
    {
     "data": {
      "text/plain": [
       "['x', 'xx', 'xxx', 'xxxx', 'y', 'yy', 'yyy', 'yyyy', 'z', 'zz', 'zzz', 'zzzz']"
      ]
     },
     "execution_count": 5,
     "metadata": {},
     "output_type": "execute_result"
    }
   ],
   "source": [
    "l=['x','y','z']\n",
    "[i*j for i in l for j in range (1,5)]"
   ]
  },
  {
   "cell_type": "code",
   "execution_count": 6,
   "metadata": {},
   "outputs": [
    {
     "data": {
      "text/plain": [
       "['x', 'y', 'z', 'xx', 'yy', 'zz', 'xxx', 'yyy', 'zzz', 'xxxx', 'yyyy', 'zzzz']"
      ]
     },
     "execution_count": 6,
     "metadata": {},
     "output_type": "execute_result"
    }
   ],
   "source": [
    "l=['x','y','z']\n",
    "[i*j for j in range(1,5) for i in l]"
   ]
  },
  {
   "cell_type": "code",
   "execution_count": 7,
   "metadata": {},
   "outputs": [
    {
     "data": {
      "text/plain": [
       "[[2], [3], [4], [3], [4], [5], [4], [5], [6]]"
      ]
     },
     "execution_count": 7,
     "metadata": {},
     "output_type": "execute_result"
    }
   ],
   "source": [
    "l=range(1,4)\n",
    "[[i+1*j-1] for i in l for j in range(2,5)]"
   ]
  },
  {
   "cell_type": "code",
   "execution_count": 8,
   "metadata": {},
   "outputs": [
    {
     "data": {
      "text/plain": [
       "[[2, 3, 4, 5, 6], [3, 4, 5, 6, 7], [4, 5, 6, 7, 8], [5, 6, 7, 8, 9]]"
      ]
     },
     "execution_count": 8,
     "metadata": {},
     "output_type": "execute_result"
    }
   ],
   "source": [
    "l=range(1,5)\n",
    "[[j+1*i for j in range(1,6)] for i in l]\n"
   ]
  },
  {
   "cell_type": "code",
   "execution_count": 9,
   "metadata": {},
   "outputs": [
    {
     "data": {
      "text/plain": [
       "[(1, 1), (2, 1), (3, 1), (1, 2), (2, 2), (3, 2), (1, 3), (2, 3), (3, 3)]"
      ]
     },
     "execution_count": 9,
     "metadata": {},
     "output_type": "execute_result"
    }
   ],
   "source": [
    "l=[1,2,3]\n",
    "[(j,i)for i in l for j in l]"
   ]
  },
  {
   "cell_type": "code",
   "execution_count": 22,
   "metadata": {},
   "outputs": [
    {
     "name": "stdout",
     "output_type": "stream",
     "text": [
      "Enter the number of elements in list:5\n",
      "Enter element:Machine_Learning\n",
      "Enter element:Deep_Learning\n",
      "Enter element:Artificial_Intelligence\n",
      "Enter element:Big_Data_Developer\n",
      "Enter element:Data_Scientist\n",
      "\n",
      "The word with the longest length is:\n",
      "Artificial_Intelligence\n"
     ]
    }
   ],
   "source": [
    "'''\n",
    "3. Implement a function longestWord() that takes a list of words and returns the longest one.\n",
    "'''\n",
    "\n",
    "l=[]\n",
    "n= int(input(\"Enter the number of elements in list:\"))\n",
    "for i in range(0,n):\n",
    "    word=input(\"Enter element:\")\n",
    "    l.append(word)\n",
    "max1=len(l[0])\n",
    "t=l[0]\n",
    "for j in l:\n",
    "    if(len(j)>max1):\n",
    "       max1=len(j)\n",
    "       t=j\n",
    "print(\"\\nThe word with the longest length is:\")\n",
    "print(t)"
   ]
  },
  {
   "cell_type": "markdown",
   "metadata": {},
   "source": [
    "# Task_2"
   ]
  },
  {
   "cell_type": "code",
   "execution_count": 12,
   "metadata": {},
   "outputs": [
    {
     "name": "stdout",
     "output_type": "stream",
     "text": [
      "enter the value of a=5\n",
      "enter the value of b=3.2\n",
      "enter the value of c=4.7\n",
      "Area:90.03289065669277\n"
     ]
    }
   ],
   "source": [
    "'''\n",
    "1.1 Write a Python Program(with class concepts) to find the area of the triangle using the below formula. \n",
    "area = (s(s-a)(s-b)(s-c)) * 0.5 Function to take the length of the sides of triangle \n",
    "from user should be defined in the parent class and function to calculate the area should be defined in subclass.\n",
    "'''\n",
    "\n",
    "class triangle:\n",
    "\n",
    "    def __init__(self,a,b,c):\n",
    "        self.a=a\n",
    "        self.b=b\n",
    "        self.c=c\n",
    "\n",
    "    def area (self):\n",
    "\n",
    "        s=(self.a+self.b+self.c)\n",
    "        return ((s*(s-self.a)*(s-self.b)*(s-self.c))**0.5)\n",
    "\n",
    "a=float(input(\"enter the value of a=\"))\n",
    "\n",
    "b=float(input(\"enter the value of b=\"))\n",
    "\n",
    "c=float(input(\"enter the value of c=\"))\n",
    "\n",
    "t= triangle(a,b,c)\n",
    "\n",
    "print(\"Area:{}\".format(t.area()))"
   ]
  },
  {
   "cell_type": "code",
   "execution_count": 15,
   "metadata": {},
   "outputs": [
    {
     "name": "stdout",
     "output_type": "stream",
     "text": [
      "Enter integer which will get compare with the length of words:5\n",
      "Total number of words to be display:7\n",
      "Word:Days\n",
      "Word:Months\n",
      "Word:Years\n",
      "Word:Seconds\n",
      "Word:Minutes\n",
      "Word:Hours\n",
      "Word:Moment\n",
      "list of Words: ['Days', 'Months', 'Years', 'Seconds', 'Minutes', 'Hours', 'Moment']\n",
      "list of words which has greater length than integer: ['Months', 'Seconds', 'Minutes', 'Moment']\n"
     ]
    }
   ],
   "source": [
    "'''\n",
    "1.2 Write a function filter_long_words() that takes a list of words \n",
    "and an integer n and returns the list of words that are longer than n.\n",
    "'''\n",
    "\n",
    "l=[]\n",
    "l1=[]\n",
    "n=int(input(\"Enter integer which will get compare with the length of words:\"))\n",
    "\n",
    "n1=int(input(\"Total number of words to be display:\"))\n",
    "\n",
    "def filter_long_word(l,l1,n,n1):\n",
    "    \n",
    "    for i in range(0,n1):\n",
    "    \n",
    "        word=input(\"Word:\")\n",
    "    \n",
    "        l.append(word)\n",
    "    print(\"list of Words:\",l)\n",
    "\n",
    "    for i in l:\n",
    "        \n",
    "        if len(i)>n:\n",
    "            l1.append(i)\n",
    "    print(\"list of words which has greater length than integer:\",l1)\n",
    "\n",
    "filter_long_word(l,l1,n,n1)"
   ]
  },
  {
   "cell_type": "code",
   "execution_count": 16,
   "metadata": {},
   "outputs": [
    {
     "name": "stdout",
     "output_type": "stream",
     "text": [
      "Enter the total strings:3\n",
      "Word:Kedar\n",
      "Word:Data_Scientist\n",
      "Word:Determination\n",
      "list: ['Kedar', 'Data_Scientist', 'Determination']\n",
      "5 14 13 "
     ]
    }
   ],
   "source": [
    "'''\n",
    "2.1 Write a Python program using function concept that maps list of words into a list of integers \n",
    "representing the lengths of the corresponding words . \n",
    "Hint: If a list [ ab,cde,erty] is passed on to the python function output should come as [2,3,4] \n",
    "Here 2,3 and 4 are the lengths of the words in the list.\n",
    "'''\n",
    "\n",
    "l=[]\n",
    "num=int(input(\"Enter the total strings:\"))\n",
    "\n",
    "for i in range(0,num):\n",
    "\n",
    "    word=input(\"Word:\")\n",
    "\n",
    "    l.append(word)\n",
    "print(\"list:\",l)\n",
    "\n",
    "def len_string(l):\n",
    "\n",
    "    for i in l:\n",
    "\n",
    "        print(len(i),end=' ')\n",
    "\n",
    "len_string(l)\n"
   ]
  },
  {
   "cell_type": "code",
   "execution_count": 17,
   "metadata": {},
   "outputs": [
    {
     "name": "stdout",
     "output_type": "stream",
     "text": [
      "Enter an alphabet:I\n",
      "True\n"
     ]
    }
   ],
   "source": [
    "'''\n",
    "2.2 Write a Python function which takes a character (i.e. a string of length 1) and \n",
    "returns True if it is a vowel, False otherwise.\n",
    "\n",
    "NOTE: The solution shared through Github should contain the source code used and the screenshot of the output.\n",
    "'''\n",
    "\n",
    "a=input(\"Enter an alphabet:\")\n",
    "\n",
    "def is_vowel():\n",
    "    if a in (\"'a' , 'A', 'e' , 'E', 'i' , 'I', 'o' , 'O', 'u' , 'U'\"):\n",
    "        print(True)\n",
    "    else:\n",
    "        print(False)\n",
    "is_vowel()\n",
    "    "
   ]
  },
  {
   "cell_type": "code",
   "execution_count": null,
   "metadata": {},
   "outputs": [],
   "source": []
  }
 ],
 "metadata": {
  "kernelspec": {
   "display_name": "Python 3",
   "language": "python",
   "name": "python3"
  },
  "language_info": {
   "codemirror_mode": {
    "name": "ipython",
    "version": 3
   },
   "file_extension": ".py",
   "mimetype": "text/x-python",
   "name": "python",
   "nbconvert_exporter": "python",
   "pygments_lexer": "ipython3",
   "version": "3.7.4"
  }
 },
 "nbformat": 4,
 "nbformat_minor": 2
}
